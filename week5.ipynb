{
 "cells": [
  {
   "cell_type": "markdown",
   "metadata": {},
   "source": [
    "## 2.2.1 선형 시스템과 비선형 시스템\n",
    "* 선형성\n",
    "\n",
    "  * 가산성: $H\\{x_1\\}=y_1, H\\{x_2\\}=y_2 -> H\\{x_1+x_2\\}=H\\{x_1\\}+H\\{x_2\\}=y_1+y_2$\n",
    "  \n",
    "  * 동차성: $H\\{x\\}=y -> H\\{\\alpha x\\}=\\alpha H\\{x\\}+\\alpha y$\n",
    "\n",
    "  * 선형성(=중첩의 원리): 가산성(additivity)+동차성(homogeneity)\n",
    "  >$H\\{\\alpha x_1 + \\beta x_2\\}=\\alpha H\\{x_1\\}\\beta H\\{x_2\\}=\\alpha y_1 +\\beta y_2$"
   ]
  },
  {
   "cell_type": "markdown",
   "metadata": {},
   "source": [
    "* 선형 시스템과 비선형 시스템\n",
    "  * 선형(linear) 시스템\n",
    "    * **입출력 관계가 선형으로 주어지는 시스템**\n",
    "    * **중첩의 원리가 성립되는 시스템**\n",
    "  * 예) RLC 회로\n",
    "* 비선형(nonlinear) 시스템\n",
    "    * 선형성을 만족하지 않는 시스템\n",
    "  \n",
    "  ![Alt text](image.png)\n",
    "  ![Alt text](image-1.png)\n",
    "\n",
    "  $H{\\alpha x_1 + \\beta y_1} = \\alpha y_1 + \\beta y_2$\n",
    "\n",
    "  ![Alt text](image-2.png)"
   ]
  },
  {
   "cell_type": "markdown",
   "metadata": {},
   "source": [
    "#### 예제 2-5. 선형 시스템의 판별\n",
    "입출력 관계가 다음과 같은 시스템이 있다. 이것이 선형 시스템인지 아닌지 판별하라.\n",
    "\n",
    "a. $y(t)=2x(t)+1$\n",
    "b. $y[n]=2x[n]$"
   ]
  },
  {
   "cell_type": "code",
   "execution_count": 3,
   "metadata": {},
   "outputs": [
    {
     "ename": "NameError",
     "evalue": "name 't' is not defined",
     "output_type": "error",
     "traceback": [
      "\u001b[1;31m---------------------------------------------------------------------------\u001b[0m",
      "\u001b[1;31mNameError\u001b[0m                                 Traceback (most recent call last)",
      "\u001b[1;32mc:\\Users\\sdh05\\Desktop\\대학\\2학년 2학기\\신호시스템\\week5.ipynb 셀 4\u001b[0m line \u001b[0;36m3\n\u001b[0;32m     <a href='vscode-notebook-cell:/c%3A/Users/sdh05/Desktop/%EB%8C%80%ED%95%99/2%ED%95%99%EB%85%84%202%ED%95%99%EA%B8%B0/%EC%8B%A0%ED%98%B8%EC%8B%9C%EC%8A%A4%ED%85%9C/week5.ipynb#X11sZmlsZQ%3D%3D?line=29'>30</a>\u001b[0m     \u001b[39mreturn\u001b[39;00m is_linear_system\n\u001b[0;32m     <a href='vscode-notebook-cell:/c%3A/Users/sdh05/Desktop/%EB%8C%80%ED%95%99/2%ED%95%99%EB%85%84%202%ED%95%99%EA%B8%B0/%EC%8B%A0%ED%98%B8%EC%8B%9C%EC%8A%A4%ED%85%9C/week5.ipynb#X11sZmlsZQ%3D%3D?line=31'>32</a>\u001b[0m \u001b[39m# 시스템 a의 선형 여부 판별\u001b[39;00m\n\u001b[1;32m---> <a href='vscode-notebook-cell:/c%3A/Users/sdh05/Desktop/%EB%8C%80%ED%95%99/2%ED%95%99%EB%85%84%202%ED%95%99%EA%B8%B0/%EC%8B%A0%ED%98%B8%EC%8B%9C%EC%8A%A4%ED%85%9C/week5.ipynb#X11sZmlsZQ%3D%3D?line=32'>33</a>\u001b[0m is_linear_a \u001b[39m=\u001b[39m is_linear(system_a)\n\u001b[0;32m     <a href='vscode-notebook-cell:/c%3A/Users/sdh05/Desktop/%EB%8C%80%ED%95%99/2%ED%95%99%EB%85%84%202%ED%95%99%EA%B8%B0/%EC%8B%A0%ED%98%B8%EC%8B%9C%EC%8A%A4%ED%85%9C/week5.ipynb#X11sZmlsZQ%3D%3D?line=33'>34</a>\u001b[0m \u001b[39mif\u001b[39;00m is_linear_a:\n\u001b[0;32m     <a href='vscode-notebook-cell:/c%3A/Users/sdh05/Desktop/%EB%8C%80%ED%95%99/2%ED%95%99%EB%85%84%202%ED%95%99%EA%B8%B0/%EC%8B%A0%ED%98%B8%EC%8B%9C%EC%8A%A4%ED%85%9C/week5.ipynb#X11sZmlsZQ%3D%3D?line=34'>35</a>\u001b[0m     \u001b[39mprint\u001b[39m(\u001b[39m\"\u001b[39m\u001b[39m시스템 a는 선형 시스템입니다.\u001b[39m\u001b[39m\"\u001b[39m)\n",
      "\u001b[1;32mc:\\Users\\sdh05\\Desktop\\대학\\2학년 2학기\\신호시스템\\week5.ipynb 셀 4\u001b[0m line \u001b[0;36m1\n\u001b[0;32m     <a href='vscode-notebook-cell:/c%3A/Users/sdh05/Desktop/%EB%8C%80%ED%95%99/2%ED%95%99%EB%85%84%202%ED%95%99%EA%B8%B0/%EC%8B%A0%ED%98%B8%EC%8B%9C%EC%8A%A4%ED%85%9C/week5.ipynb#X11sZmlsZQ%3D%3D?line=13'>14</a>\u001b[0m \u001b[39mdef\u001b[39;00m \u001b[39mis_linear\u001b[39m(system_function):\n\u001b[0;32m     <a href='vscode-notebook-cell:/c%3A/Users/sdh05/Desktop/%EB%8C%80%ED%95%99/2%ED%95%99%EB%85%84%202%ED%95%99%EA%B8%B0/%EC%8B%A0%ED%98%B8%EC%8B%9C%EC%8A%A4%ED%85%9C/week5.ipynb#X11sZmlsZQ%3D%3D?line=14'>15</a>\u001b[0m     \u001b[39m# 임의의 입력 신호 x1(t)와 x2(t) 생성\u001b[39;00m\n\u001b[1;32m---> <a href='vscode-notebook-cell:/c%3A/Users/sdh05/Desktop/%EB%8C%80%ED%95%99/2%ED%95%99%EB%85%84%202%ED%95%99%EA%B8%B0/%EC%8B%A0%ED%98%B8%EC%8B%9C%EC%8A%A4%ED%85%9C/week5.ipynb#X11sZmlsZQ%3D%3D?line=15'>16</a>\u001b[0m     x1_t \u001b[39m=\u001b[39m x(t)\n\u001b[0;32m     <a href='vscode-notebook-cell:/c%3A/Users/sdh05/Desktop/%EB%8C%80%ED%95%99/2%ED%95%99%EB%85%84%202%ED%95%99%EA%B8%B0/%EC%8B%A0%ED%98%B8%EC%8B%9C%EC%8A%A4%ED%85%9C/week5.ipynb#X11sZmlsZQ%3D%3D?line=16'>17</a>\u001b[0m     x2_t \u001b[39m=\u001b[39m \u001b[39m2\u001b[39m \u001b[39m*\u001b[39m x(t)\n\u001b[0;32m     <a href='vscode-notebook-cell:/c%3A/Users/sdh05/Desktop/%EB%8C%80%ED%95%99/2%ED%95%99%EB%85%84%202%ED%95%99%EA%B8%B0/%EC%8B%A0%ED%98%B8%EC%8B%9C%EC%8A%A4%ED%85%9C/week5.ipynb#X11sZmlsZQ%3D%3D?line=18'>19</a>\u001b[0m     \u001b[39m# 입력 신호의 선형 조합에 대한 출력 계산\u001b[39;00m\n",
      "\u001b[1;31mNameError\u001b[0m: name 't' is not defined"
     ]
    }
   ],
   "source": [
    "# 입력 시그널 정의\n",
    "def x(t):\n",
    "    return t  # 예시 입력 신호, 임의로 선택\n",
    "\n",
    "# 시스템 a의 출력 계산\n",
    "def system_a(input_signal):\n",
    "    return 2 * input_signal + 1\n",
    "\n",
    "# 시스템 b의 출력 계산\n",
    "def system_b(input_signal):\n",
    "    return 2 * input_signal\n",
    "\n",
    "# 슈퍼포지션 원리를 검사하는 함수\n",
    "def is_linear(system_function):\n",
    "    # 임의의 입력 신호 x1(t)와 x2(t) 생성\n",
    "    x1_t = x(t)\n",
    "    x2_t = 2 * x(t)\n",
    "    \n",
    "    # 입력 신호의 선형 조합에 대한 출력 계산\n",
    "    a = 3  # 임의의 상수\n",
    "    b = 2  # 임의의 상수\n",
    "    output_combination = a * system_function(x1_t) + b * system_function(x2_t)\n",
    "    \n",
    "    # 입력 신호의 선형 조합에 대한 출력과 직접 계산한 출력 비교\n",
    "    expected_output = system_function(a * x1_t + b * x2_t)\n",
    "    \n",
    "    # 선형 시스템 여부 판별\n",
    "    is_linear_system = (output_combination == expected_output)\n",
    "    \n",
    "    return is_linear_system\n",
    "\n",
    "# 시스템 a의 선형 여부 판별\n",
    "is_linear_a = is_linear(system_a)\n",
    "if is_linear_a:\n",
    "    print(\"시스템 a는 선형 시스템입니다.\")\n",
    "else:\n",
    "    print(\"시스템 a는 선형 시스템이 아닙니다.\")\n",
    "\n",
    "# 시스템 b의 선형 여부 판별\n",
    "is_linear_b = is_linear(system_b)\n",
    "if is_linear_b:\n",
    "    print(\"시스템 b는 선형 시스템입니다.\")\n",
    "else:\n",
    "    print(\"시스템 b는 선형 시스템이 아닙니다.\")\n"
   ]
  },
  {
   "cell_type": "markdown",
   "metadata": {},
   "source": [
    "#### \\<tip and Note\\>\n",
    "(a) $y(t)=H\\{x(t)\\}=2x(t)$\n",
    "    \n",
    ">정현파 입력 $x(t)=2cos(\\omega _0 t)$에 대한 시스템 출력\n",
    "$y(t)=4cos(\\omega _0 t)$\n",
    ">>출력의 주파수: 입력의 주파수\n",
    "\n",
    "(b) $y(t)=x^2(t)$: 비선형 시스템\n",
    "> $H{x_1(t)+x_2(t)}=(x_{1}^{2}(t)+x_2(t))^2=x_{1}^{2}(t)+2x_1(t)+2x_1(t)x_2(t) != x_{1}^{2}(t)+x^2(t)=y_1(t)+y_2(t)$\n",
    "\n",
    "정현파 입력 $x(t)=1+2cos(\\omega _0 t)$에 대한 시스템 출력\n",
    "> $y(t)=4cos^2(\\omega _0 t) = 2(1+cos(2\\omega _0 t)) = 2+2cos(2\\omega _0 t)$\n",
    ">> = 직루 성분 (주파수 0) + 정현파(주파수 $2\\omega _0$)\n",
    "> 출력의 주파수 \\!= 입력의 주파수\n",
    "\n",
    "**선형 시스템의 출력은 입력과 같은 주파수 성분만 포함(주파수 보존!)**\n",
    "**비선형 시스템의 출력은 입력과 다른 주파수 성분이 생길 수 있음.**"
   ]
  },
  {
   "cell_type": "markdown",
   "metadata": {},
   "source": [
    "## 2.2.2 시불변 시스템과 시변 시스템\n",
    "* **시불변 시스템(Time-invariant, TI)**\n",
    "  * 시간에 상관 없이 같은 입력에 대해서는 같은 반응을 나타냄\n",
    "  > $H{x(t)}=y(t) -> H{x(t-t_0)}=y(t-t_0)$\n",
    "\n",
    "* **시변 시스템**\n",
    "  * 입력이 들어오는 시간에 따라 출력이 달라짐\n",
    "  * 시스템 특성(파라미터)이 시간에 따라 변함\n",
    "  > =>시스템을 표현한 미방(차방)의 계수가 시간 함수\n",
    "  >>예) 탄소 마이크로폰\n",
    "\n",
    "![Alt text](image-4.png)\n",
    "\n",
    "![Alt text](image-3.png)"
   ]
  },
  {
   "cell_type": "markdown",
   "metadata": {},
   "source": [
    "## 2.2.3 인과 시스템과 비인과 시스템\n",
    "* 인과 시스템과 비인과 시스템\n",
    "  * 인과 시스템\n",
    "    * *인과 시스템(미래 입력이 현재 출력에 영향을 주지 않음)을 만족하는 시스템*\n",
    "    *  *입력을 인가하기 전에는 출력이 발생되지 않음*\n",
    "> $x(t)=0, t<=t_0$ -> $y(t)=0, t<=t_0$\n",
    "\n",
    "  * 비인가 시스템\n",
    "    * *인과성이 성립되지 않는 시스템*\n",
    "    * *미래의 입력에 대해 현재 반응할 수 있는 예측적 시스템*\n",
    "  > 예) off-line 작업에 의한 영상 개선\n",
    "\n",
    "  ![Alt text](image-5.png)\n",
    "  ![Alt text](image-6.png)"
   ]
  },
  {
   "cell_type": "markdown",
   "metadata": {},
   "source": [
    "## 2.2.4 안정 시스템과 불안정 시스템\n",
    "* 안정도\n",
    "> * 시스템 동작이 불안하지 않고 꾸준히 작동될 수 있는지에 관한 성질\n",
    "\n",
    "* 유한 입력 출력(BIBO) 안정도\n",
    "  * 시스템 입력이 유한한 크기이면 출력의 크기도 반드시 유한\n",
    "> $|x(t)| = M_x<\\infty, \\forall t$ -> $|y(t)|<=M_y<\\infty, \\forall t$\n",
    "\n",
    "* 안정 시스템과 불안정 시스템\n",
    "  * BiBO 안정 시스템\n",
    "    * *BIBO  안정도 만족, 즉 유한 입력에 대해 유한 출력*\n",
    "    * *지속적으로 작동 보장됨*\n",
    "  * BIBO 불안정 시스템\n",
    "    * *유한 입력에 대해 무한 출력*\n",
    "    * *궁극적으로 시스템 파괴됨*\n",
    "\n",
    "![Alt text](image-7.png)"
   ]
  }
 ],
 "metadata": {
  "kernelspec": {
   "display_name": "base",
   "language": "python",
   "name": "python3"
  },
  "language_info": {
   "codemirror_mode": {
    "name": "ipython",
    "version": 3
   },
   "file_extension": ".py",
   "mimetype": "text/x-python",
   "name": "python",
   "nbconvert_exporter": "python",
   "pygments_lexer": "ipython3",
   "version": "3.9.12"
  },
  "orig_nbformat": 4
 },
 "nbformat": 4,
 "nbformat_minor": 2
}
